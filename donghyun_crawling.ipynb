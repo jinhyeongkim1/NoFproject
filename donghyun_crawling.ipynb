{
 "cells": [
  {
   "cell_type": "code",
   "execution_count": null,
   "metadata": {},
   "outputs": [],
   "source": [
    "##판례 본문 API 읽어오기##\n",
    "OC = 'younwjdtjr'\n",
    "target = 'prec'\n",
    "url = 'http://www.law.go.kr/DRF/lawService.do?'\n",
    "data2 = []\n",
    "for i in range(1,df['판례일련번호'].value_counts().sum()+1):\n",
    "  params = {\n",
    "      'OC' : OC,\n",
    "      'target' : target,\n",
    "      'type' : 'XML',\n",
    "      'ID' : df['판례일련번호'].iloc[i-1]\n",
    "  }\n",
    "\n",
    "  response = requests.get(url, params=params)\n",
    "\n",
    "  if response.status_code == 200:\n",
    "    root = etree.fromstring(response.content)\n",
    "    # print(root)\n",
    "    # xml구조확인\n",
    "    # print(etree.tostring(root, encoding='utf-8').decode('utf-8'))\n",
    "    print(root.find('.//사건번호').text, root.find('.//사건명').text)\n",
    "    CASE_NUM = root.find('.//사건번호')\n",
    "    JUD = root.find('.//선고')\n",
    "    JUD_TYPE = root.find('.//판결유형')\n",
    "    ISSUE = root.find('.//판시사항')\n",
    "    SUMMARY_JUD = root.find('.//판결요지')\n",
    "    REF_STAT = root.find('.//참조조문')\n",
    "    REF_CASE = root.find('.//참조판례')\n",
    "    CASE_CONTENT = root.find('.//판례내용')\n",
    "    data2.append([\n",
    "    df['판례일련번호'].iloc[i-1],  # 판례일련번호\n",
    "    CASE_NUM.text if CASE_NUM is not None else None, #사건번호\n",
    "    JUD.text if JUD is not None else None, #선고\n",
    "    JUD_TYPE.text if JUD_TYPE is not None else None, #판결유형\n",
    "    ISSUE.text if ISSUE is not None else None,  # 판시사항\n",
    "    SUMMARY_JUD.text if SUMMARY_JUD is not None else None, #판결요지\n",
    "    REF_STAT.text if REF_STAT is not None else None, #참조조문\n",
    "    REF_CASE.text if REF_CASE is not None else None, #참조판례\n",
    "    CASE_CONTENT.text if CASE_CONTENT is not None else None #판례내용\n",
    "])\n",
    "  else:\n",
    "    print('error')\n",
    "df2 = pd.DataFrame(data=data2, columns=['판례정보일련번호','사건번호','선고','판결유형','판시사항','판결요지','참조조문','참조판례','판례내용'])"
   ]
  },
  {
   "cell_type": "code",
   "execution_count": null,
   "metadata": {},
   "outputs": [],
   "source": [
    "df.to_csv('C:/Users/user/Downloads/project/상해판례_목록_조회_API.csv',index=False)"
   ]
  },
  {
   "attachments": {},
   "cell_type": "markdown",
   "metadata": {},
   "source": [
    "push 테스트용 merge 테스트"
   ]
  }
 ],
 "metadata": {
  "kernelspec": {
   "display_name": "vits2",
   "language": "python",
   "name": "python3"
  },
  "language_info": {
   "name": "python",
   "version": "3.10.14 | packaged by Anaconda, Inc. | (main, May  6 2024, 19:44:50) [MSC v.1916 64 bit (AMD64)]"
  },
  "orig_nbformat": 4,
  "vscode": {
   "interpreter": {
    "hash": "13a3b04868cc8ce4d78a48b339427a1a48266e963ad062bdf6c4f6db3a7c92a1"
   }
  }
 },
 "nbformat": 4,
 "nbformat_minor": 2
}
